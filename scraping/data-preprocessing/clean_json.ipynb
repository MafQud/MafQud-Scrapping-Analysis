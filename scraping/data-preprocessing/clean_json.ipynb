{
 "cells": [
  {
   "cell_type": "code",
   "execution_count": 1,
   "metadata": {},
   "outputs": [
    {
     "data": {
      "text/html": [
       "<div>\n",
       "<style scoped>\n",
       "    .dataframe tbody tr th:only-of-type {\n",
       "        vertical-align: middle;\n",
       "    }\n",
       "\n",
       "    .dataframe tbody tr th {\n",
       "        vertical-align: top;\n",
       "    }\n",
       "\n",
       "    .dataframe thead th {\n",
       "        text-align: right;\n",
       "    }\n",
       "</style>\n",
       "<table border=\"1\" class=\"dataframe\">\n",
       "  <thead>\n",
       "    <tr style=\"text-align: right;\">\n",
       "      <th></th>\n",
       "      <th>id</th>\n",
       "      <th>name_arabic</th>\n",
       "      <th>name_english</th>\n",
       "      <th>government_arabic</th>\n",
       "      <th>government_english</th>\n",
       "      <th>missing_date</th>\n",
       "      <th>current_age</th>\n",
       "      <th>number_of_images</th>\n",
       "      <th>missing_date_ar</th>\n",
       "      <th>missing_date_en</th>\n",
       "      <th>day</th>\n",
       "      <th>month</th>\n",
       "      <th>year</th>\n",
       "    </tr>\n",
       "  </thead>\n",
       "  <tbody>\n",
       "    <tr>\n",
       "      <th>0</th>\n",
       "      <td>0</td>\n",
       "      <td>داليا محمد نبقه</td>\n",
       "      <td>Dalia Mhmd Nbqh</td>\n",
       "      <td>الغربيه</td>\n",
       "      <td>Gharbia</td>\n",
       "      <td>٢٠‏/٠٩‏/٢٠١١</td>\n",
       "      <td>11</td>\n",
       "      <td>1</td>\n",
       "      <td>٢٠-٠٩-٢٠١١</td>\n",
       "      <td>2011-09-20T00:00:00.000Z</td>\n",
       "      <td>20.0</td>\n",
       "      <td>9.0</td>\n",
       "      <td>2011.0</td>\n",
       "    </tr>\n",
       "    <tr>\n",
       "      <th>1</th>\n",
       "      <td>1</td>\n",
       "      <td>سلمي احمد مصطفي</td>\n",
       "      <td>Slmi Ahmd Mstfi</td>\n",
       "      <td>مفقود</td>\n",
       "      <td>Null</td>\n",
       "      <td>٢٢‏/٠٥‏/٢٠١٣</td>\n",
       "      <td>13</td>\n",
       "      <td>14</td>\n",
       "      <td>٢٢-٠٥-٢٠١٣</td>\n",
       "      <td>2013-05-22T00:00:00.000Z</td>\n",
       "      <td>22.0</td>\n",
       "      <td>5.0</td>\n",
       "      <td>2013.0</td>\n",
       "    </tr>\n",
       "    <tr>\n",
       "      <th>2</th>\n",
       "      <td>2</td>\n",
       "      <td>مؤمن اسلام محمد قمبر</td>\n",
       "      <td>Moumn Aslam Mhmd Qmbr</td>\n",
       "      <td>مفقود</td>\n",
       "      <td>Null</td>\n",
       "      <td>١٤‏/٠٦‏/٢٠١٤</td>\n",
       "      <td>10</td>\n",
       "      <td>5</td>\n",
       "      <td>١٤-٠٦-٢٠١٤</td>\n",
       "      <td>2014-06-14T00:00:00.000Z</td>\n",
       "      <td>14.0</td>\n",
       "      <td>6.0</td>\n",
       "      <td>2014.0</td>\n",
       "    </tr>\n",
       "    <tr>\n",
       "      <th>3</th>\n",
       "      <td>3</td>\n",
       "      <td>ندا تامر عبد النبي</td>\n",
       "      <td>Nda Tamr Abd Alnbi</td>\n",
       "      <td>القليوبيه</td>\n",
       "      <td>Qualyubia</td>\n",
       "      <td>٢١‏/٠٧‏/٢٠١٥</td>\n",
       "      <td>12</td>\n",
       "      <td>8</td>\n",
       "      <td>٢١-٠٧-٢٠١٥</td>\n",
       "      <td>2015-07-21T00:00:00.000Z</td>\n",
       "      <td>21.0</td>\n",
       "      <td>7.0</td>\n",
       "      <td>2015.0</td>\n",
       "    </tr>\n",
       "    <tr>\n",
       "      <th>4</th>\n",
       "      <td>5</td>\n",
       "      <td>سيد محروس محمد عوض الله</td>\n",
       "      <td>Sid Mhrous Mhmd Aoud Allh</td>\n",
       "      <td>مفقود</td>\n",
       "      <td>Null</td>\n",
       "      <td>٠٦‏/١١‏/٢٠١٥</td>\n",
       "      <td>11</td>\n",
       "      <td>2</td>\n",
       "      <td>٠٦-١١-٢٠١٥</td>\n",
       "      <td>2015-06-11T00:00:00.000Z</td>\n",
       "      <td>11.0</td>\n",
       "      <td>6.0</td>\n",
       "      <td>2015.0</td>\n",
       "    </tr>\n",
       "  </tbody>\n",
       "</table>\n",
       "</div>"
      ],
      "text/plain": [
       "   id              name_arabic               name_english government_arabic  \\\n",
       "0   0          داليا محمد نبقه            Dalia Mhmd Nbqh           الغربيه   \n",
       "1   1          سلمي احمد مصطفي            Slmi Ahmd Mstfi             مفقود   \n",
       "2   2     مؤمن اسلام محمد قمبر      Moumn Aslam Mhmd Qmbr             مفقود   \n",
       "3   3       ندا تامر عبد النبي         Nda Tamr Abd Alnbi         القليوبيه   \n",
       "4   5  سيد محروس محمد عوض الله  Sid Mhrous Mhmd Aoud Allh             مفقود   \n",
       "\n",
       "  government_english  missing_date  current_age  number_of_images  \\\n",
       "0            Gharbia  ٢٠‏/٠٩‏/٢٠١١           11                 1   \n",
       "1               Null  ٢٢‏/٠٥‏/٢٠١٣           13                14   \n",
       "2               Null  ١٤‏/٠٦‏/٢٠١٤           10                 5   \n",
       "3          Qualyubia  ٢١‏/٠٧‏/٢٠١٥           12                 8   \n",
       "4               Null  ٠٦‏/١١‏/٢٠١٥           11                 2   \n",
       "\n",
       "  missing_date_ar           missing_date_en   day  month    year  \n",
       "0      ٢٠-٠٩-٢٠١١  2011-09-20T00:00:00.000Z  20.0    9.0  2011.0  \n",
       "1      ٢٢-٠٥-٢٠١٣  2013-05-22T00:00:00.000Z  22.0    5.0  2013.0  \n",
       "2      ١٤-٠٦-٢٠١٤  2014-06-14T00:00:00.000Z  14.0    6.0  2014.0  \n",
       "3      ٢١-٠٧-٢٠١٥  2015-07-21T00:00:00.000Z  21.0    7.0  2015.0  \n",
       "4      ٠٦-١١-٢٠١٥  2015-06-11T00:00:00.000Z  11.0    6.0  2015.0  "
      ]
     },
     "execution_count": 1,
     "metadata": {},
     "output_type": "execute_result"
    }
   ],
   "source": [
    "import re\n",
    "import pandas as pd\n",
    "from arabic_content import EGYPT_GOVS_V2, GOVS_MAPPING_V2\n",
    "\n",
    "df = pd.read_json('../Scrapping/data_not_ready/missing_people.json')\n",
    "df.head()"
   ]
  },
  {
   "cell_type": "code",
   "execution_count": 2,
   "metadata": {},
   "outputs": [
    {
     "name": "stdout",
     "output_type": "stream",
     "text": [
      "<class 'pandas.core.frame.DataFrame'>\n",
      "RangeIndex: 1211 entries, 0 to 1210\n",
      "Data columns (total 13 columns):\n",
      " #   Column              Non-Null Count  Dtype  \n",
      "---  ------              --------------  -----  \n",
      " 0   id                  1211 non-null   int64  \n",
      " 1   name_arabic         1211 non-null   object \n",
      " 2   name_english        1211 non-null   object \n",
      " 3   government_arabic   1211 non-null   object \n",
      " 4   government_english  1211 non-null   object \n",
      " 5   missing_date        1211 non-null   object \n",
      " 6   current_age         1211 non-null   int64  \n",
      " 7   number_of_images    1211 non-null   int64  \n",
      " 8   missing_date_ar     1211 non-null   object \n",
      " 9   missing_date_en     1210 non-null   object \n",
      " 10  day                 1210 non-null   float64\n",
      " 11  month               1210 non-null   float64\n",
      " 12  year                1210 non-null   float64\n",
      "dtypes: float64(3), int64(3), object(7)\n",
      "memory usage: 123.1+ KB\n"
     ]
    }
   ],
   "source": [
    "df.info()"
   ]
  },
  {
   "cell_type": "code",
   "execution_count": 3,
   "metadata": {},
   "outputs": [
    {
     "data": {
      "text/plain": [
       "Index(['id', 'url', 'name_arabic', 'name_english', 'government_arabic',\n",
       "       'government_english', 'missing_date', 'current_age', 'image',\n",
       "       'imageRef', 'number_of_images'],\n",
       "      dtype='object')"
      ]
     },
     "execution_count": 3,
     "metadata": {},
     "output_type": "execute_result"
    }
   ],
   "source": [
    "# columns name lower case\n",
    "df.columns = df.columns.map(lambda x: x.lower() if x != \"imageRefExtra\" and  x !=\"imageRef\" else x)\n",
    "df.columns"
   ]
  },
  {
   "cell_type": "code",
   "execution_count": 4,
   "metadata": {},
   "outputs": [
    {
     "data": {
      "text/plain": [
       "مفقود        518\n",
       "جيز          158\n",
       "قاهر         158\n",
       "منيا          92\n",
       "سكندر         76\n",
       "قليوب         72\n",
       "شرقي          67\n",
       "سوهاج         62\n",
       "دقهل          55\n",
       "سيوط          54\n",
       "غربي          49\n",
       "منوفي         37\n",
       "قنا           37\n",
       "بحير          34\n",
       "فيوم          29\n",
       "سويف          29\n",
       "دمياط         25\n",
       "سوان          21\n",
       "قصر            9\n",
       "سويس           8\n",
       "كفر الشيخ      4\n",
       "بورسعيد        4\n",
       "مطروح          4\n",
       "سينا           3\n",
       "حمر            2\n",
       "بور سعيد       1\n",
       "Name: government_arabic, dtype: int64"
      ]
     },
     "execution_count": 4,
     "metadata": {},
     "output_type": "execute_result"
    }
   ],
   "source": [
    "df[\"government_arabic\"].value_counts()"
   ]
  },
  {
   "cell_type": "code",
   "execution_count": 5,
   "metadata": {},
   "outputs": [],
   "source": [
    "# extract date from text\n",
    "df[\"missing_date\"] = df[\"missing_date\"].apply(lambda x: x[15:])\n"
   ]
  },
  {
   "cell_type": "code",
   "execution_count": 6,
   "metadata": {},
   "outputs": [],
   "source": [
    "# fix date format in arabic\n",
    "df[\"missing_date_ar\"] = df[\"missing_date\"].apply(lambda x: \"-\".join(list(map(str, re.findall(r'\\d+',x)))))"
   ]
  },
  {
   "cell_type": "code",
   "execution_count": 7,
   "metadata": {},
   "outputs": [],
   "source": [
    "# convert date in arabic to english\n",
    "df['missing_date_en'] = pd.to_datetime(df.missing_date_ar)"
   ]
  },
  {
   "cell_type": "code",
   "execution_count": 8,
   "metadata": {},
   "outputs": [],
   "source": [
    "# extract age from text\n",
    "df[\"current_age\"] = df[\"current_age\"].apply(lambda x: x[32:])"
   ]
  },
  {
   "cell_type": "code",
   "execution_count": 9,
   "metadata": {},
   "outputs": [],
   "source": [
    "# convert age to int\n",
    "df[\"current_age\"] = df[\"current_age\"].astype(int)"
   ]
  },
  {
   "cell_type": "code",
   "execution_count": 10,
   "metadata": {},
   "outputs": [],
   "source": [
    "df[\"number_of_images\"] = None"
   ]
  },
  {
   "cell_type": "code",
   "execution_count": 13,
   "metadata": {},
   "outputs": [
    {
     "name": "stdout",
     "output_type": "stream",
     "text": [
      "1595\n"
     ]
    }
   ],
   "source": [
    "# number of available images per person\n",
    "import os\n",
    "listdirectory = os.listdir('../Scrapping/data_not_ready/images')\n",
    "print(len(listdirectory))\n",
    "for i in range(len(listdirectory)):\n",
    "    df.loc[df['name_arabic'] == listdirectory[i], 'number_of_images'] = len(os.listdir(f'../Scrapping/data_not_ready/images/{listdirectory[i]}'))\n"
   ]
  },
  {
   "cell_type": "code",
   "execution_count": 14,
   "metadata": {},
   "outputs": [
    {
     "data": {
      "text/plain": [
       "1     1175\n",
       "2      274\n",
       "3       79\n",
       "4       37\n",
       "5       12\n",
       "8        9\n",
       "0        8\n",
       "7        4\n",
       "14       2\n",
       "6        2\n",
       "28       1\n",
       "16       1\n",
       "10       1\n",
       "12       1\n",
       "11       1\n",
       "15       1\n",
       "Name: number_of_images, dtype: int64"
      ]
     },
     "execution_count": 14,
     "metadata": {},
     "output_type": "execute_result"
    }
   ],
   "source": [
    "df[\"number_of_images\"].value_counts()"
   ]
  },
  {
   "cell_type": "code",
   "execution_count": 15,
   "metadata": {},
   "outputs": [
    {
     "name": "stdout",
     "output_type": "stream",
     "text": [
      "<class 'pandas.core.frame.DataFrame'>\n",
      "RangeIndex: 1608 entries, 0 to 1607\n",
      "Data columns (total 13 columns):\n",
      " #   Column              Non-Null Count  Dtype         \n",
      "---  ------              --------------  -----         \n",
      " 0   id                  1608 non-null   int64         \n",
      " 1   url                 1608 non-null   object        \n",
      " 2   name_arabic         1608 non-null   object        \n",
      " 3   name_english        1608 non-null   object        \n",
      " 4   government_arabic   1608 non-null   object        \n",
      " 5   government_english  1608 non-null   object        \n",
      " 6   missing_date        1608 non-null   object        \n",
      " 7   current_age         1608 non-null   int64         \n",
      " 8   image               1608 non-null   object        \n",
      " 9   imageRef            1608 non-null   object        \n",
      " 10  number_of_images    1608 non-null   object        \n",
      " 11  missing_date_ar     1608 non-null   object        \n",
      " 12  missing_date_en     1607 non-null   datetime64[ns]\n",
      "dtypes: datetime64[ns](1), int64(2), object(10)\n",
      "memory usage: 163.4+ KB\n"
     ]
    }
   ],
   "source": [
    "df.info()"
   ]
  },
  {
   "cell_type": "code",
   "execution_count": 16,
   "metadata": {},
   "outputs": [
    {
     "data": {
      "text/plain": [
       "1     1175\n",
       "2      274\n",
       "3       79\n",
       "4       37\n",
       "5       12\n",
       "8        9\n",
       "0        8\n",
       "7        4\n",
       "14       2\n",
       "6        2\n",
       "28       1\n",
       "16       1\n",
       "10       1\n",
       "12       1\n",
       "11       1\n",
       "15       1\n",
       "Name: number_of_images, dtype: int64"
      ]
     },
     "execution_count": 16,
     "metadata": {},
     "output_type": "execute_result"
    }
   ],
   "source": [
    "df.number_of_images.value_counts()"
   ]
  },
  {
   "cell_type": "code",
   "execution_count": 17,
   "metadata": {},
   "outputs": [
    {
     "data": {
      "text/plain": [
       "مفقود           518\n",
       "الجيزه          158\n",
       "القاهرة         158\n",
       "المنيا           92\n",
       "الاسكندريه       76\n",
       "القليوبيه        72\n",
       "الشرقيه          67\n",
       "سوهاج            62\n",
       "الدقهلية         55\n",
       "أسيوط            54\n",
       "الغربيه          49\n",
       "المنوفيه         37\n",
       "قنا              37\n",
       "البحيرة          34\n",
       "الفيوم           29\n",
       "بني سويف         29\n",
       "دمياط            25\n",
       "أسوان            21\n",
       "الأقصر            9\n",
       "السويس            8\n",
       "كفر الشيخ         4\n",
       "بورسعيد           4\n",
       "مرسى مطروح        4\n",
       "جنوب سيناء        3\n",
       "البحر الأحمر      2\n",
       "بور سعيد          1\n",
       "Name: government_arabic, dtype: int64"
      ]
     },
     "execution_count": 17,
     "metadata": {},
     "output_type": "execute_result"
    }
   ],
   "source": [
    "# fix names of govs\n",
    "for i in GOVS_MAPPING_V2:\n",
    "    for x in EGYPT_GOVS_V2:\n",
    "        if i in x:\n",
    "            df[\"government_arabic\"].replace({i: x}, inplace=True)\n",
    "df[\"government_arabic\"].value_counts()\n"
   ]
  },
  {
   "cell_type": "code",
   "execution_count": 18,
   "metadata": {},
   "outputs": [
    {
     "data": {
      "text/html": [
       "<div>\n",
       "<style scoped>\n",
       "    .dataframe tbody tr th:only-of-type {\n",
       "        vertical-align: middle;\n",
       "    }\n",
       "\n",
       "    .dataframe tbody tr th {\n",
       "        vertical-align: top;\n",
       "    }\n",
       "\n",
       "    .dataframe thead th {\n",
       "        text-align: right;\n",
       "    }\n",
       "</style>\n",
       "<table border=\"1\" class=\"dataframe\">\n",
       "  <thead>\n",
       "    <tr style=\"text-align: right;\">\n",
       "      <th></th>\n",
       "      <th>id</th>\n",
       "      <th>url</th>\n",
       "      <th>name_arabic</th>\n",
       "      <th>name_english</th>\n",
       "      <th>government_arabic</th>\n",
       "      <th>government_english</th>\n",
       "      <th>missing_date</th>\n",
       "      <th>current_age</th>\n",
       "      <th>image</th>\n",
       "      <th>imageRef</th>\n",
       "      <th>number_of_images</th>\n",
       "      <th>missing_date_ar</th>\n",
       "      <th>missing_date_en</th>\n",
       "    </tr>\n",
       "  </thead>\n",
       "  <tbody>\n",
       "    <tr>\n",
       "      <th>0</th>\n",
       "      <td>1</td>\n",
       "      <td>https://atfalmafkoda.com/ar/report-missing-mod...</td>\n",
       "      <td>داليا محمد نبقه</td>\n",
       "      <td>Dalia Mhmd Nbqh</td>\n",
       "      <td>الغربيه</td>\n",
       "      <td>Gharbia</td>\n",
       "      <td>٢٠‏/٠٩‏/٢٠١١</td>\n",
       "      <td>11</td>\n",
       "      <td>[https://atfalmafkoda.com//uploads/ReportMissi...</td>\n",
       "      <td>0001_0.jpg</td>\n",
       "      <td>1</td>\n",
       "      <td>٢٠-٠٩-٢٠١١</td>\n",
       "      <td>2011-09-20</td>\n",
       "    </tr>\n",
       "    <tr>\n",
       "      <th>1</th>\n",
       "      <td>2</td>\n",
       "      <td>https://atfalmafkoda.com/ar/report-missing-mod...</td>\n",
       "      <td>سلمي احمد مصطفي</td>\n",
       "      <td>Slmi Ahmd Mstfi</td>\n",
       "      <td>مفقود</td>\n",
       "      <td>Null</td>\n",
       "      <td>٢٢‏/٠٥‏/٢٠١٣</td>\n",
       "      <td>13</td>\n",
       "      <td>[https://atfalmafkoda.com//uploads/ReportMissi...</td>\n",
       "      <td>0002_0.jpg</td>\n",
       "      <td>14</td>\n",
       "      <td>٢٢-٠٥-٢٠١٣</td>\n",
       "      <td>2013-05-22</td>\n",
       "    </tr>\n",
       "    <tr>\n",
       "      <th>2</th>\n",
       "      <td>3</td>\n",
       "      <td>https://atfalmafkoda.com/ar/report-missing-mod...</td>\n",
       "      <td>مؤمن اسلام محمد قمبر</td>\n",
       "      <td>Moumn Aslam Mhmd Qmbr</td>\n",
       "      <td>مفقود</td>\n",
       "      <td>Null</td>\n",
       "      <td>١٤‏/٠٦‏/٢٠١٤</td>\n",
       "      <td>10</td>\n",
       "      <td>[https://atfalmafkoda.com//uploads/ReportMissi...</td>\n",
       "      <td>0003_0.jpg</td>\n",
       "      <td>5</td>\n",
       "      <td>١٤-٠٦-٢٠١٤</td>\n",
       "      <td>2014-06-14</td>\n",
       "    </tr>\n",
       "    <tr>\n",
       "      <th>3</th>\n",
       "      <td>4</td>\n",
       "      <td>https://atfalmafkoda.com/ar/report-missing-mod...</td>\n",
       "      <td>ندا تامر عبد النبي</td>\n",
       "      <td>Nda Tamr Abd Alnbi</td>\n",
       "      <td>القليوبيه</td>\n",
       "      <td>Qualyubia</td>\n",
       "      <td>٢١‏/٠٧‏/٢٠١٥</td>\n",
       "      <td>12</td>\n",
       "      <td>[https://atfalmafkoda.com//uploads/ReportMissi...</td>\n",
       "      <td>0004_0.jpg</td>\n",
       "      <td>8</td>\n",
       "      <td>٢١-٠٧-٢٠١٥</td>\n",
       "      <td>2015-07-21</td>\n",
       "    </tr>\n",
       "    <tr>\n",
       "      <th>4</th>\n",
       "      <td>5</td>\n",
       "      <td>https://atfalmafkoda.com/ar/report-missing-mod...</td>\n",
       "      <td>مازن طارق حسن السمالوطي</td>\n",
       "      <td>Mazn Tarq Hsn Alsmalouti</td>\n",
       "      <td>المنيا</td>\n",
       "      <td>Minya</td>\n",
       "      <td>١٢‏/١١‏/٢٠١٠</td>\n",
       "      <td>17</td>\n",
       "      <td>[https://atfalmafkoda.com//uploads/ReportMissi...</td>\n",
       "      <td>0005_0.jpg</td>\n",
       "      <td>8</td>\n",
       "      <td>١٢-١١-٢٠١٠</td>\n",
       "      <td>2010-12-11</td>\n",
       "    </tr>\n",
       "  </tbody>\n",
       "</table>\n",
       "</div>"
      ],
      "text/plain": [
       "   id                                                url  \\\n",
       "0   1  https://atfalmafkoda.com/ar/report-missing-mod...   \n",
       "1   2  https://atfalmafkoda.com/ar/report-missing-mod...   \n",
       "2   3  https://atfalmafkoda.com/ar/report-missing-mod...   \n",
       "3   4  https://atfalmafkoda.com/ar/report-missing-mod...   \n",
       "4   5  https://atfalmafkoda.com/ar/report-missing-mod...   \n",
       "\n",
       "               name_arabic              name_english government_arabic  \\\n",
       "0          داليا محمد نبقه           Dalia Mhmd Nbqh           الغربيه   \n",
       "1          سلمي احمد مصطفي           Slmi Ahmd Mstfi             مفقود   \n",
       "2     مؤمن اسلام محمد قمبر     Moumn Aslam Mhmd Qmbr             مفقود   \n",
       "3       ندا تامر عبد النبي        Nda Tamr Abd Alnbi         القليوبيه   \n",
       "4  مازن طارق حسن السمالوطي  Mazn Tarq Hsn Alsmalouti            المنيا   \n",
       "\n",
       "  government_english  missing_date  current_age  \\\n",
       "0            Gharbia  ٢٠‏/٠٩‏/٢٠١١           11   \n",
       "1               Null  ٢٢‏/٠٥‏/٢٠١٣           13   \n",
       "2               Null  ١٤‏/٠٦‏/٢٠١٤           10   \n",
       "3          Qualyubia  ٢١‏/٠٧‏/٢٠١٥           12   \n",
       "4              Minya  ١٢‏/١١‏/٢٠١٠           17   \n",
       "\n",
       "                                               image    imageRef  \\\n",
       "0  [https://atfalmafkoda.com//uploads/ReportMissi...  0001_0.jpg   \n",
       "1  [https://atfalmafkoda.com//uploads/ReportMissi...  0002_0.jpg   \n",
       "2  [https://atfalmafkoda.com//uploads/ReportMissi...  0003_0.jpg   \n",
       "3  [https://atfalmafkoda.com//uploads/ReportMissi...  0004_0.jpg   \n",
       "4  [https://atfalmafkoda.com//uploads/ReportMissi...  0005_0.jpg   \n",
       "\n",
       "  number_of_images missing_date_ar missing_date_en  \n",
       "0                1      ٢٠-٠٩-٢٠١١      2011-09-20  \n",
       "1               14      ٢٢-٠٥-٢٠١٣      2013-05-22  \n",
       "2                5      ١٤-٠٦-٢٠١٤      2014-06-14  \n",
       "3                8      ٢١-٠٧-٢٠١٥      2015-07-21  \n",
       "4                8      ١٢-١١-٢٠١٠      2010-12-11  "
      ]
     },
     "execution_count": 18,
     "metadata": {},
     "output_type": "execute_result"
    }
   ],
   "source": [
    "df.head()"
   ]
  },
  {
   "cell_type": "code",
   "execution_count": 19,
   "metadata": {},
   "outputs": [
    {
     "data": {
      "text/plain": [
       "array([1, 14, 5, 8, 2, 4, 28, 16, 3, 10, 7, 12, 6, 11, 15, 0],\n",
       "      dtype=object)"
      ]
     },
     "execution_count": 19,
     "metadata": {},
     "output_type": "execute_result"
    }
   ],
   "source": [
    "df.number_of_images.unique()"
   ]
  },
  {
   "cell_type": "code",
   "execution_count": 20,
   "metadata": {},
   "outputs": [],
   "source": [
    "# split date\n",
    "df['day'] = df.missing_date_en.dt.day\n",
    "df['month'] = df.missing_date_en.dt.month\n",
    "df['year'] = df.missing_date_en.dt.year"
   ]
  },
  {
   "cell_type": "code",
   "execution_count": 21,
   "metadata": {},
   "outputs": [
    {
     "data": {
      "text/plain": [
       "2020.0    323\n",
       "2019.0    190\n",
       "2016.0    129\n",
       "2018.0    115\n",
       "2017.0     93\n",
       "2015.0     74\n",
       "2014.0     73\n",
       "2011.0     71\n",
       "2021.0     60\n",
       "2012.0     49\n",
       "1970.0     41\n",
       "2013.0     41\n",
       "2010.0     29\n",
       "2007.0     29\n",
       "2009.0     24\n",
       "2002.0     21\n",
       "2006.0     18\n",
       "2005.0     17\n",
       "2003.0     16\n",
       "1996.0     15\n",
       "1991.0     14\n",
       "2004.0     13\n",
       "2008.0     13\n",
       "2000.0     13\n",
       "1997.0     12\n",
       "1992.0     11\n",
       "1994.0     11\n",
       "1998.0     10\n",
       "1999.0     10\n",
       "2001.0      9\n",
       "1990.0      6\n",
       "1993.0      5\n",
       "1983.0      5\n",
       "1984.0      5\n",
       "1980.0      5\n",
       "1982.0      4\n",
       "1995.0      4\n",
       "1976.0      4\n",
       "1986.0      4\n",
       "1974.0      3\n",
       "1987.0      3\n",
       "1981.0      2\n",
       "1977.0      2\n",
       "1989.0      2\n",
       "1985.0      2\n",
       "1979.0      2\n",
       "1972.0      1\n",
       "1973.0      1\n",
       "1975.0      1\n",
       "1988.0      1\n",
       "1969.0      1\n",
       "Name: year, dtype: int64"
      ]
     },
     "execution_count": 21,
     "metadata": {},
     "output_type": "execute_result"
    }
   ],
   "source": [
    "df.year.value_counts()"
   ]
  },
  {
   "cell_type": "code",
   "execution_count": 22,
   "metadata": {},
   "outputs": [],
   "source": [
    "df.drop([\"url\", 'image'], axis=1, inplace=True)"
   ]
  },
  {
   "cell_type": "code",
   "execution_count": 23,
   "metadata": {},
   "outputs": [
    {
     "data": {
      "text/html": [
       "<div>\n",
       "<style scoped>\n",
       "    .dataframe tbody tr th:only-of-type {\n",
       "        vertical-align: middle;\n",
       "    }\n",
       "\n",
       "    .dataframe tbody tr th {\n",
       "        vertical-align: top;\n",
       "    }\n",
       "\n",
       "    .dataframe thead th {\n",
       "        text-align: right;\n",
       "    }\n",
       "</style>\n",
       "<table border=\"1\" class=\"dataframe\">\n",
       "  <thead>\n",
       "    <tr style=\"text-align: right;\">\n",
       "      <th></th>\n",
       "      <th>id</th>\n",
       "      <th>name_arabic</th>\n",
       "      <th>name_english</th>\n",
       "      <th>government_arabic</th>\n",
       "      <th>government_english</th>\n",
       "      <th>missing_date</th>\n",
       "      <th>current_age</th>\n",
       "      <th>imageRef</th>\n",
       "      <th>number_of_images</th>\n",
       "      <th>missing_date_ar</th>\n",
       "      <th>missing_date_en</th>\n",
       "      <th>day</th>\n",
       "      <th>month</th>\n",
       "      <th>year</th>\n",
       "    </tr>\n",
       "  </thead>\n",
       "  <tbody>\n",
       "    <tr>\n",
       "      <th>0</th>\n",
       "      <td>1</td>\n",
       "      <td>داليا محمد نبقه</td>\n",
       "      <td>Dalia Mhmd Nbqh</td>\n",
       "      <td>الغربيه</td>\n",
       "      <td>Gharbia</td>\n",
       "      <td>٢٠‏/٠٩‏/٢٠١١</td>\n",
       "      <td>11</td>\n",
       "      <td>0001_0.jpg</td>\n",
       "      <td>1</td>\n",
       "      <td>٢٠-٠٩-٢٠١١</td>\n",
       "      <td>2011-09-20</td>\n",
       "      <td>20.0</td>\n",
       "      <td>9.0</td>\n",
       "      <td>2011.0</td>\n",
       "    </tr>\n",
       "    <tr>\n",
       "      <th>1</th>\n",
       "      <td>2</td>\n",
       "      <td>سلمي احمد مصطفي</td>\n",
       "      <td>Slmi Ahmd Mstfi</td>\n",
       "      <td>مفقود</td>\n",
       "      <td>Null</td>\n",
       "      <td>٢٢‏/٠٥‏/٢٠١٣</td>\n",
       "      <td>13</td>\n",
       "      <td>0002_0.jpg</td>\n",
       "      <td>14</td>\n",
       "      <td>٢٢-٠٥-٢٠١٣</td>\n",
       "      <td>2013-05-22</td>\n",
       "      <td>22.0</td>\n",
       "      <td>5.0</td>\n",
       "      <td>2013.0</td>\n",
       "    </tr>\n",
       "    <tr>\n",
       "      <th>2</th>\n",
       "      <td>3</td>\n",
       "      <td>مؤمن اسلام محمد قمبر</td>\n",
       "      <td>Moumn Aslam Mhmd Qmbr</td>\n",
       "      <td>مفقود</td>\n",
       "      <td>Null</td>\n",
       "      <td>١٤‏/٠٦‏/٢٠١٤</td>\n",
       "      <td>10</td>\n",
       "      <td>0003_0.jpg</td>\n",
       "      <td>5</td>\n",
       "      <td>١٤-٠٦-٢٠١٤</td>\n",
       "      <td>2014-06-14</td>\n",
       "      <td>14.0</td>\n",
       "      <td>6.0</td>\n",
       "      <td>2014.0</td>\n",
       "    </tr>\n",
       "    <tr>\n",
       "      <th>3</th>\n",
       "      <td>4</td>\n",
       "      <td>ندا تامر عبد النبي</td>\n",
       "      <td>Nda Tamr Abd Alnbi</td>\n",
       "      <td>القليوبيه</td>\n",
       "      <td>Qualyubia</td>\n",
       "      <td>٢١‏/٠٧‏/٢٠١٥</td>\n",
       "      <td>12</td>\n",
       "      <td>0004_0.jpg</td>\n",
       "      <td>8</td>\n",
       "      <td>٢١-٠٧-٢٠١٥</td>\n",
       "      <td>2015-07-21</td>\n",
       "      <td>21.0</td>\n",
       "      <td>7.0</td>\n",
       "      <td>2015.0</td>\n",
       "    </tr>\n",
       "    <tr>\n",
       "      <th>4</th>\n",
       "      <td>5</td>\n",
       "      <td>مازن طارق حسن السمالوطي</td>\n",
       "      <td>Mazn Tarq Hsn Alsmalouti</td>\n",
       "      <td>المنيا</td>\n",
       "      <td>Minya</td>\n",
       "      <td>١٢‏/١١‏/٢٠١٠</td>\n",
       "      <td>17</td>\n",
       "      <td>0005_0.jpg</td>\n",
       "      <td>8</td>\n",
       "      <td>١٢-١١-٢٠١٠</td>\n",
       "      <td>2010-12-11</td>\n",
       "      <td>11.0</td>\n",
       "      <td>12.0</td>\n",
       "      <td>2010.0</td>\n",
       "    </tr>\n",
       "  </tbody>\n",
       "</table>\n",
       "</div>"
      ],
      "text/plain": [
       "   id              name_arabic              name_english government_arabic  \\\n",
       "0   1          داليا محمد نبقه           Dalia Mhmd Nbqh           الغربيه   \n",
       "1   2          سلمي احمد مصطفي           Slmi Ahmd Mstfi             مفقود   \n",
       "2   3     مؤمن اسلام محمد قمبر     Moumn Aslam Mhmd Qmbr             مفقود   \n",
       "3   4       ندا تامر عبد النبي        Nda Tamr Abd Alnbi         القليوبيه   \n",
       "4   5  مازن طارق حسن السمالوطي  Mazn Tarq Hsn Alsmalouti            المنيا   \n",
       "\n",
       "  government_english  missing_date  current_age    imageRef number_of_images  \\\n",
       "0            Gharbia  ٢٠‏/٠٩‏/٢٠١١           11  0001_0.jpg                1   \n",
       "1               Null  ٢٢‏/٠٥‏/٢٠١٣           13  0002_0.jpg               14   \n",
       "2               Null  ١٤‏/٠٦‏/٢٠١٤           10  0003_0.jpg                5   \n",
       "3          Qualyubia  ٢١‏/٠٧‏/٢٠١٥           12  0004_0.jpg                8   \n",
       "4              Minya  ١٢‏/١١‏/٢٠١٠           17  0005_0.jpg                8   \n",
       "\n",
       "  missing_date_ar missing_date_en   day  month    year  \n",
       "0      ٢٠-٠٩-٢٠١١      2011-09-20  20.0    9.0  2011.0  \n",
       "1      ٢٢-٠٥-٢٠١٣      2013-05-22  22.0    5.0  2013.0  \n",
       "2      ١٤-٠٦-٢٠١٤      2014-06-14  14.0    6.0  2014.0  \n",
       "3      ٢١-٠٧-٢٠١٥      2015-07-21  21.0    7.0  2015.0  \n",
       "4      ١٢-١١-٢٠١٠      2010-12-11  11.0   12.0  2010.0  "
      ]
     },
     "execution_count": 23,
     "metadata": {},
     "output_type": "execute_result"
    }
   ],
   "source": [
    "df.head()"
   ]
  },
  {
   "cell_type": "code",
   "execution_count": 24,
   "metadata": {},
   "outputs": [],
   "source": [
    "# save data into json with images refrences\n",
    "# Path to image is (./Scrapped_Data/name_ar/imageRef or 'imageRefExtra if available')\n",
    "df.to_json('../Scrapping/data_not_ready/missing_people_with_image_columns.json', indent = 4,orient=\"records\", force_ascii=False, date_format='iso')"
   ]
  },
  {
   "cell_type": "code",
   "execution_count": null,
   "metadata": {},
   "outputs": [],
   "source": [
    "# drop images columns\n",
    "df.drop([\"imageRef\"], axis=1, inplace=True)"
   ]
  },
  {
   "cell_type": "code",
   "execution_count": 82,
   "metadata": {},
   "outputs": [],
   "source": [
    "# save data without images refrences\n",
    "df.to_json('../Scrapping/data_not_ready/missing_people_without_image_columns.json',  indent = 4,orient=\"records\", force_ascii=False, date_format='iso')"
   ]
  },
  {
   "cell_type": "code",
   "execution_count": null,
   "metadata": {},
   "outputs": [],
   "source": []
  }
 ],
 "metadata": {
  "interpreter": {
   "hash": "cacfbbee9f5e84aac8ec5be2498b1163fae9ff8c281d308c392f5db0ba935b52"
  },
  "kernelspec": {
   "display_name": "Python 3.9.7 64-bit ('Wanda': conda)",
   "language": "python",
   "name": "python3"
  },
  "language_info": {
   "codemirror_mode": {
    "name": "ipython",
    "version": 3
   },
   "file_extension": ".py",
   "mimetype": "text/x-python",
   "name": "python",
   "nbconvert_exporter": "python",
   "pygments_lexer": "ipython3",
   "version": "3.6.13"
  },
  "orig_nbformat": 4
 },
 "nbformat": 4,
 "nbformat_minor": 2
}
